{
 "cells": [
  {
   "cell_type": "code",
   "execution_count": 1,
   "id": "93299a8e",
   "metadata": {
    "_cell_guid": "b1076dfc-b9ad-4769-8c92-a6c4dae69d19",
    "_uuid": "8f2839f25d086af736a60e9eeb907d3b93b6e0e5",
    "execution": {
     "iopub.execute_input": "2025-02-03T08:43:28.502718Z",
     "iopub.status.busy": "2025-02-03T08:43:28.502356Z",
     "iopub.status.idle": "2025-02-03T08:43:28.519886Z",
     "shell.execute_reply": "2025-02-03T08:43:28.518830Z"
    },
    "papermill": {
     "duration": 0.022036,
     "end_time": "2025-02-03T08:43:28.521524",
     "exception": false,
     "start_time": "2025-02-03T08:43:28.499488",
     "status": "completed"
    },
    "tags": []
   },
   "outputs": [
    {
     "name": "stdout",
     "output_type": "stream",
     "text": [
      "/kaggle/input/deepseek-v2/transformers/deepseek-v2/1/model.safetensors.index.json\n",
      "/kaggle/input/deepseek-v2/transformers/deepseek-v2/1/model-00037-of-000055.safetensors\n",
      "/kaggle/input/deepseek-v2/transformers/deepseek-v2/1/model-00008-of-000055.safetensors\n",
      "/kaggle/input/deepseek-v2/transformers/deepseek-v2/1/model-00036-of-000055.safetensors\n",
      "/kaggle/input/deepseek-v2/transformers/deepseek-v2/1/model-00047-of-000055.safetensors\n",
      "/kaggle/input/deepseek-v2/transformers/deepseek-v2/1/model-00004-of-000055.safetensors\n",
      "/kaggle/input/deepseek-v2/transformers/deepseek-v2/1/model-00021-of-000055.safetensors\n",
      "/kaggle/input/deepseek-v2/transformers/deepseek-v2/1/model-00046-of-000055.safetensors\n",
      "/kaggle/input/deepseek-v2/transformers/deepseek-v2/1/config.json\n",
      "/kaggle/input/deepseek-v2/transformers/deepseek-v2/1/configuration_deepseek.py\n",
      "/kaggle/input/deepseek-v2/transformers/deepseek-v2/1/model-00052-of-000055.safetensors\n",
      "/kaggle/input/deepseek-v2/transformers/deepseek-v2/1/model-00005-of-000055.safetensors\n",
      "/kaggle/input/deepseek-v2/transformers/deepseek-v2/1/model-00007-of-000055.safetensors\n",
      "/kaggle/input/deepseek-v2/transformers/deepseek-v2/1/model-00014-of-000055.safetensors\n",
      "/kaggle/input/deepseek-v2/transformers/deepseek-v2/1/model-00010-of-000055.safetensors\n",
      "/kaggle/input/deepseek-v2/transformers/deepseek-v2/1/LICENSE\n",
      "/kaggle/input/deepseek-v2/transformers/deepseek-v2/1/model-00042-of-000055.safetensors\n",
      "/kaggle/input/deepseek-v2/transformers/deepseek-v2/1/model-00039-of-000055.safetensors\n",
      "/kaggle/input/deepseek-v2/transformers/deepseek-v2/1/model-00017-of-000055.safetensors\n",
      "/kaggle/input/deepseek-v2/transformers/deepseek-v2/1/model-00012-of-000055.safetensors\n",
      "/kaggle/input/deepseek-v2/transformers/deepseek-v2/1/model-00043-of-000055.safetensors\n",
      "/kaggle/input/deepseek-v2/transformers/deepseek-v2/1/model-00051-of-000055.safetensors\n",
      "/kaggle/input/deepseek-v2/transformers/deepseek-v2/1/model-00015-of-000055.safetensors\n",
      "/kaggle/input/deepseek-v2/transformers/deepseek-v2/1/model-00019-of-000055.safetensors\n",
      "/kaggle/input/deepseek-v2/transformers/deepseek-v2/1/model-00028-of-000055.safetensors\n",
      "/kaggle/input/deepseek-v2/transformers/deepseek-v2/1/modeling_deepseek.py\n",
      "/kaggle/input/deepseek-v2/transformers/deepseek-v2/1/model-00054-of-000055.safetensors\n",
      "/kaggle/input/deepseek-v2/transformers/deepseek-v2/1/README.md\n",
      "/kaggle/input/deepseek-v2/transformers/deepseek-v2/1/model-00022-of-000055.safetensors\n",
      "/kaggle/input/deepseek-v2/transformers/deepseek-v2/1/tokenizer.json\n",
      "/kaggle/input/deepseek-v2/transformers/deepseek-v2/1/model-00055-of-000055.safetensors\n",
      "/kaggle/input/deepseek-v2/transformers/deepseek-v2/1/model-00011-of-000055.safetensors\n",
      "/kaggle/input/deepseek-v2/transformers/deepseek-v2/1/model-00031-of-000055.safetensors\n",
      "/kaggle/input/deepseek-v2/transformers/deepseek-v2/1/model-00030-of-000055.safetensors\n",
      "/kaggle/input/deepseek-v2/transformers/deepseek-v2/1/model-00034-of-000055.safetensors\n",
      "/kaggle/input/deepseek-v2/transformers/deepseek-v2/1/tokenizer_config.json\n",
      "/kaggle/input/deepseek-v2/transformers/deepseek-v2/1/model-00020-of-000055.safetensors\n",
      "/kaggle/input/deepseek-v2/transformers/deepseek-v2/1/model-00033-of-000055.safetensors\n",
      "/kaggle/input/deepseek-v2/transformers/deepseek-v2/1/model-00024-of-000055.safetensors\n",
      "/kaggle/input/deepseek-v2/transformers/deepseek-v2/1/model-00006-of-000055.safetensors\n",
      "/kaggle/input/deepseek-v2/transformers/deepseek-v2/1/model-00003-of-000055.safetensors\n",
      "/kaggle/input/deepseek-v2/transformers/deepseek-v2/1/model-00009-of-000055.safetensors\n",
      "/kaggle/input/deepseek-v2/transformers/deepseek-v2/1/tokenization_deepseek_fast.py\n",
      "/kaggle/input/deepseek-v2/transformers/deepseek-v2/1/model-00045-of-000055.safetensors\n",
      "/kaggle/input/deepseek-v2/transformers/deepseek-v2/1/model-00044-of-000055.safetensors\n",
      "/kaggle/input/deepseek-v2/transformers/deepseek-v2/1/model-00027-of-000055.safetensors\n",
      "/kaggle/input/deepseek-v2/transformers/deepseek-v2/1/model-00029-of-000055.safetensors\n",
      "/kaggle/input/deepseek-v2/transformers/deepseek-v2/1/model-00023-of-000055.safetensors\n",
      "/kaggle/input/deepseek-v2/transformers/deepseek-v2/1/model-00026-of-000055.safetensors\n",
      "/kaggle/input/deepseek-v2/transformers/deepseek-v2/1/model-00041-of-000055.safetensors\n",
      "/kaggle/input/deepseek-v2/transformers/deepseek-v2/1/.gitattributes\n",
      "/kaggle/input/deepseek-v2/transformers/deepseek-v2/1/model-00048-of-000055.safetensors\n",
      "/kaggle/input/deepseek-v2/transformers/deepseek-v2/1/model-00053-of-000055.safetensors\n",
      "/kaggle/input/deepseek-v2/transformers/deepseek-v2/1/model-00035-of-000055.safetensors\n",
      "/kaggle/input/deepseek-v2/transformers/deepseek-v2/1/model-00001-of-000055.safetensors\n",
      "/kaggle/input/deepseek-v2/transformers/deepseek-v2/1/model-00049-of-000055.safetensors\n",
      "/kaggle/input/deepseek-v2/transformers/deepseek-v2/1/model-00016-of-000055.safetensors\n",
      "/kaggle/input/deepseek-v2/transformers/deepseek-v2/1/model-00050-of-000055.safetensors\n",
      "/kaggle/input/deepseek-v2/transformers/deepseek-v2/1/model-00040-of-000055.safetensors\n",
      "/kaggle/input/deepseek-v2/transformers/deepseek-v2/1/model-00032-of-000055.safetensors\n",
      "/kaggle/input/deepseek-v2/transformers/deepseek-v2/1/model-00038-of-000055.safetensors\n",
      "/kaggle/input/deepseek-v2/transformers/deepseek-v2/1/model-00002-of-000055.safetensors\n",
      "/kaggle/input/deepseek-v2/transformers/deepseek-v2/1/model-00018-of-000055.safetensors\n",
      "/kaggle/input/deepseek-v2/transformers/deepseek-v2/1/model-00013-of-000055.safetensors\n",
      "/kaggle/input/deepseek-v2/transformers/deepseek-v2/1/model-00025-of-000055.safetensors\n",
      "/kaggle/input/deepseek-v2/transformers/deepseek-v2/1/generation_config.json\n"
     ]
    }
   ],
   "source": [
    "import os\n",
    "for dirname, _, filenames in os.walk('/kaggle/input'):\n",
    "    for filename in filenames:\n",
    "        print(os.path.join(dirname, filename))"
   ]
  }
 ],
 "metadata": {
  "kaggle": {
   "accelerator": "none",
   "dataSources": [
    {
     "isSourceIdPinned": true,
     "modelId": 101594,
     "modelInstanceId": 78540,
     "sourceId": 93710,
     "sourceType": "modelInstanceVersion"
    }
   ],
   "dockerImageVersionId": 30839,
   "isGpuEnabled": false,
   "isInternetEnabled": true,
   "language": "python",
   "sourceType": "notebook"
  },
  "kernelspec": {
   "display_name": "Python 3",
   "language": "python",
   "name": "python3"
  },
  "language_info": {
   "codemirror_mode": {
    "name": "ipython",
    "version": 3
   },
   "file_extension": ".py",
   "mimetype": "text/x-python",
   "name": "python",
   "nbconvert_exporter": "python",
   "pygments_lexer": "ipython3",
   "version": "3.10.12"
  },
  "papermill": {
   "default_parameters": {},
   "duration": 3.075181,
   "end_time": "2025-02-03T08:43:28.941596",
   "environment_variables": {},
   "exception": null,
   "input_path": "__notebook__.ipynb",
   "output_path": "__notebook__.ipynb",
   "parameters": {},
   "start_time": "2025-02-03T08:43:25.866415",
   "version": "2.6.0"
  }
 },
 "nbformat": 4,
 "nbformat_minor": 5
}
